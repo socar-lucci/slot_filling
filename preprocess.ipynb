{
 "cells": [
  {
   "cell_type": "code",
   "execution_count": 2,
   "id": "initial_id",
   "metadata": {
    "collapsed": true,
    "ExecuteTime": {
     "end_time": "2023-10-10T05:32:42.945297Z",
     "start_time": "2023-10-10T05:32:27.521230Z"
    }
   },
   "outputs": [
    {
     "name": "stdout",
     "output_type": "stream",
     "text": [
      "Downloading: 100%|\u001B[32m██████████\u001B[0m|\n"
     ]
    },
    {
     "data": {
      "text/plain": "   cnslt_id  conversation_id        date           category_kor  \\\n0   4380535           740587  2023-03-01  환불 문의 (& 영수증, 증빙, 반려)   \n1   4380535           740587  2023-03-01  환불 문의 (& 영수증, 증빙, 반려)   \n2   4380535           740587  2023-03-01  환불 문의 (& 영수증, 증빙, 반려)   \n3   4380535           740587  2023-03-01  환불 문의 (& 영수증, 증빙, 반려)   \n4   4380535           740587  2023-03-01  환불 문의 (& 영수증, 증빙, 반려)   \n\n                  chat_conversation_key      id       type purpose  \\\n0  3bab59ac-3e88-478e-8f22-c6094ab77e52  740587    MESSAGE      고객   \n1  3bab59ac-3e88-478e-8f22-c6094ab77e52  740587       JOIN     상담사   \n2  3bab59ac-3e88-478e-8f22-c6094ab77e52  740587  GREETINGS     상담사   \n3  3bab59ac-3e88-478e-8f22-c6094ab77e52  740587    MESSAGE      고객   \n4  3bab59ac-3e88-478e-8f22-c6094ab77e52  740587    MESSAGE     상담사   \n\n  sub_purpose          created_at  \\\n0             2023-03-01 10:26:32   \n1             2023-03-01 10:26:35   \n2             2023-03-01 10:26:35   \n3             2023-03-01 10:27:43   \n4             2023-03-01 10:27:52   \n\n                                             message  \n0                \"결제/환불&gt;환불&gt;택시비\" 로 상담이 신청되었습니다.  \n1                              정소라 상담사가 채팅에 참여하였습니다.  \n2           안녕하세요, 고객님. 쏘카 상담사 정소라 입니다. 무엇을 안내해드릴까요?  \n3                        택시비환불건에대해수차례신청하였는데 계속거절당하네요  \n4  환불 관련하여 문의주시어 정확한 상담을 위해 정보 확인 후 안내 도와드리도록 하겠습...  ",
      "text/html": "<div>\n<style scoped>\n    .dataframe tbody tr th:only-of-type {\n        vertical-align: middle;\n    }\n\n    .dataframe tbody tr th {\n        vertical-align: top;\n    }\n\n    .dataframe thead th {\n        text-align: right;\n    }\n</style>\n<table border=\"1\" class=\"dataframe\">\n  <thead>\n    <tr style=\"text-align: right;\">\n      <th></th>\n      <th>cnslt_id</th>\n      <th>conversation_id</th>\n      <th>date</th>\n      <th>category_kor</th>\n      <th>chat_conversation_key</th>\n      <th>id</th>\n      <th>type</th>\n      <th>purpose</th>\n      <th>sub_purpose</th>\n      <th>created_at</th>\n      <th>message</th>\n    </tr>\n  </thead>\n  <tbody>\n    <tr>\n      <th>0</th>\n      <td>4380535</td>\n      <td>740587</td>\n      <td>2023-03-01</td>\n      <td>환불 문의 (&amp; 영수증, 증빙, 반려)</td>\n      <td>3bab59ac-3e88-478e-8f22-c6094ab77e52</td>\n      <td>740587</td>\n      <td>MESSAGE</td>\n      <td>고객</td>\n      <td></td>\n      <td>2023-03-01 10:26:32</td>\n      <td>\"결제/환불&amp;gt;환불&amp;gt;택시비\" 로 상담이 신청되었습니다.</td>\n    </tr>\n    <tr>\n      <th>1</th>\n      <td>4380535</td>\n      <td>740587</td>\n      <td>2023-03-01</td>\n      <td>환불 문의 (&amp; 영수증, 증빙, 반려)</td>\n      <td>3bab59ac-3e88-478e-8f22-c6094ab77e52</td>\n      <td>740587</td>\n      <td>JOIN</td>\n      <td>상담사</td>\n      <td></td>\n      <td>2023-03-01 10:26:35</td>\n      <td>정소라 상담사가 채팅에 참여하였습니다.</td>\n    </tr>\n    <tr>\n      <th>2</th>\n      <td>4380535</td>\n      <td>740587</td>\n      <td>2023-03-01</td>\n      <td>환불 문의 (&amp; 영수증, 증빙, 반려)</td>\n      <td>3bab59ac-3e88-478e-8f22-c6094ab77e52</td>\n      <td>740587</td>\n      <td>GREETINGS</td>\n      <td>상담사</td>\n      <td></td>\n      <td>2023-03-01 10:26:35</td>\n      <td>안녕하세요, 고객님. 쏘카 상담사 정소라 입니다. 무엇을 안내해드릴까요?</td>\n    </tr>\n    <tr>\n      <th>3</th>\n      <td>4380535</td>\n      <td>740587</td>\n      <td>2023-03-01</td>\n      <td>환불 문의 (&amp; 영수증, 증빙, 반려)</td>\n      <td>3bab59ac-3e88-478e-8f22-c6094ab77e52</td>\n      <td>740587</td>\n      <td>MESSAGE</td>\n      <td>고객</td>\n      <td></td>\n      <td>2023-03-01 10:27:43</td>\n      <td>택시비환불건에대해수차례신청하였는데 계속거절당하네요</td>\n    </tr>\n    <tr>\n      <th>4</th>\n      <td>4380535</td>\n      <td>740587</td>\n      <td>2023-03-01</td>\n      <td>환불 문의 (&amp; 영수증, 증빙, 반려)</td>\n      <td>3bab59ac-3e88-478e-8f22-c6094ab77e52</td>\n      <td>740587</td>\n      <td>MESSAGE</td>\n      <td>상담사</td>\n      <td></td>\n      <td>2023-03-01 10:27:52</td>\n      <td>환불 관련하여 문의주시어 정확한 상담을 위해 정보 확인 후 안내 도와드리도록 하겠습...</td>\n    </tr>\n  </tbody>\n</table>\n</div>"
     },
     "execution_count": 2,
     "metadata": {},
     "output_type": "execute_result"
    }
   ],
   "source": [
    "import pandas_gbq\n",
    "import pydata_google_auth\n",
    "\n",
    "SCOPES = [\n",
    "    'https://www.googleapis.com/auth/cloud-platform',\n",
    "    'https://www.googleapis.com/auth/drive',\n",
    "]\n",
    "\n",
    "credentials = pydata_google_auth.get_user_credentials(\n",
    "    SCOPES,\n",
    "    # Note, this doesn't work if you're running from a notebook on a\n",
    "    # remote sever, such as over SSH or with Google Colab. In those cases,\n",
    "    # install the gcloud command line interface and authenticate with the\n",
    "    # `gcloud auth application-default login` command and the `--no-browser`\n",
    "    # option.\n",
    "    auth_local_webserver=True,\n",
    ")\n",
    "\n",
    "\n",
    "def get_query(category):\n",
    "    df = pandas_gbq.read_gbq(\n",
    "        '''\n",
    "    select  mct.cnslt_id, # 상담이력 번호\n",
    "            ticcm.conversation_id,\n",
    "            mct.date,\n",
    "            mct.category_kor,\n",
    "            mct.chat_conversation_key, # 채팅 Key\n",
    "            tic.id, # 대화참여자 Key\n",
    "            ticcm.type,\n",
    "            case when ticp.purpose = 'AGENT' then '상담사' else '고객' end as purpose,\n",
    "            case when ticp.purpose = 'AGENT' and ticp.sub_purpose <> 'MAIN' then '지원상담사' else '' end as sub_purpose,\n",
    "            datetime(ticcm.created_at,'Asia/Seoul') as created_at, # 메시지 입력 시간\n",
    "            ticcm.message # 메시지\n",
    "        from    (select  cnslt_id, chat_conversation_key, category, category_kor, date\n",
    "                    from    `socar-data.socar_biz_base.mart_consultant_table`\n",
    "                    where   ifnull(chat_conversation_key,'') <> '') as mct # 실제 채팅이 이루어진 채팅상담만 조회\n",
    "                left outer join\n",
    "                (select conversation_key, id\n",
    "                    from    `socar-data.socar_talk.tb_ir_conversation`) as tic # 대화 Key를 이용하여 대화 ID를 가져온다\n",
    "                on  mct.chat_conversation_key = tic.conversation_key\n",
    "                left outer join\n",
    "                (select conversation_id, participant_key, purpose, sub_purpose\n",
    "                    from    `socar-data.socar_talk.tb_ir_conversation_participant`\n",
    "                    where   purpose <> 'ACD') as ticp # 시스템 메시지 제외, 대화 ID를 이용하여 대화에 참여한 참가자의 Key 를 가져온다.\n",
    "                on  tic.id = ticp.conversation_id\n",
    "                left outer join\n",
    "                (select created_by, message, created_at, conversation_id, type\n",
    "                    from `socar-data.socar_talk.tb_ir_conversation_chat_message`   # 대화 ID와 참가자 Key를 이용하여 대화메시지를 가져온다\n",
    "                    where created_at between '2023-03-01' and '2023-04-30' ) as ticcm\n",
    "                on  ticp.conversation_id = ticcm.conversation_id\n",
    "                and ticp.participant_key = ticcm.created_by\n",
    "        where mct.category_kor = \"%s\" # 원하는 카테고리로 이름 변경\n",
    "        and ticcm.conversation_id is not null\n",
    "        order by cnslt_id, created_at\n",
    "        '''%(category),\n",
    "        project_id='socar-data',\n",
    "        credentials=credentials,\n",
    "    )\n",
    "    return df\n",
    "\n",
    "raw_set = get_query(\"환불 문의 (& 영수증, 증빙, 반려)\")\n",
    "raw_set.head()"
   ]
  },
  {
   "cell_type": "code",
   "execution_count": 3,
   "outputs": [
    {
     "data": {
      "text/plain": "   cnslt_id  conversation_id        date           category_kor  \\\n0   4380535           740587  2023-03-01  환불 문의 (& 영수증, 증빙, 반려)   \n3   4380535           740587  2023-03-01  환불 문의 (& 영수증, 증빙, 반려)   \n4   4380535           740587  2023-03-01  환불 문의 (& 영수증, 증빙, 반려)   \n5   4380535           740587  2023-03-01  환불 문의 (& 영수증, 증빙, 반려)   \n6   4380535           740587  2023-03-01  환불 문의 (& 영수증, 증빙, 반려)   \n\n                  chat_conversation_key      id     type purpose sub_purpose  \\\n0  3bab59ac-3e88-478e-8f22-c6094ab77e52  740587  MESSAGE      고객               \n3  3bab59ac-3e88-478e-8f22-c6094ab77e52  740587  MESSAGE      고객               \n4  3bab59ac-3e88-478e-8f22-c6094ab77e52  740587  MESSAGE     상담사               \n5  3bab59ac-3e88-478e-8f22-c6094ab77e52  740587  MESSAGE      고객               \n6  3bab59ac-3e88-478e-8f22-c6094ab77e52  740587  MESSAGE     상담사               \n\n           created_at                                            message  \n0 2023-03-01 10:26:32                \"결제/환불&gt;환불&gt;택시비\" 로 상담이 신청되었습니다.  \n3 2023-03-01 10:27:43                        택시비환불건에대해수차례신청하였는데 계속거절당하네요  \n4 2023-03-01 10:27:52  환불 관련하여 문의주시어 정확한 상담을 위해 정보 확인 후 안내 도와드리도록 하겠습...  \n5 2023-03-01 10:28:02                                                  네  \n6 2023-03-01 10:28:35                                   소중한 정보 확인 감사합니다.  ",
      "text/html": "<div>\n<style scoped>\n    .dataframe tbody tr th:only-of-type {\n        vertical-align: middle;\n    }\n\n    .dataframe tbody tr th {\n        vertical-align: top;\n    }\n\n    .dataframe thead th {\n        text-align: right;\n    }\n</style>\n<table border=\"1\" class=\"dataframe\">\n  <thead>\n    <tr style=\"text-align: right;\">\n      <th></th>\n      <th>cnslt_id</th>\n      <th>conversation_id</th>\n      <th>date</th>\n      <th>category_kor</th>\n      <th>chat_conversation_key</th>\n      <th>id</th>\n      <th>type</th>\n      <th>purpose</th>\n      <th>sub_purpose</th>\n      <th>created_at</th>\n      <th>message</th>\n    </tr>\n  </thead>\n  <tbody>\n    <tr>\n      <th>0</th>\n      <td>4380535</td>\n      <td>740587</td>\n      <td>2023-03-01</td>\n      <td>환불 문의 (&amp; 영수증, 증빙, 반려)</td>\n      <td>3bab59ac-3e88-478e-8f22-c6094ab77e52</td>\n      <td>740587</td>\n      <td>MESSAGE</td>\n      <td>고객</td>\n      <td></td>\n      <td>2023-03-01 10:26:32</td>\n      <td>\"결제/환불&amp;gt;환불&amp;gt;택시비\" 로 상담이 신청되었습니다.</td>\n    </tr>\n    <tr>\n      <th>3</th>\n      <td>4380535</td>\n      <td>740587</td>\n      <td>2023-03-01</td>\n      <td>환불 문의 (&amp; 영수증, 증빙, 반려)</td>\n      <td>3bab59ac-3e88-478e-8f22-c6094ab77e52</td>\n      <td>740587</td>\n      <td>MESSAGE</td>\n      <td>고객</td>\n      <td></td>\n      <td>2023-03-01 10:27:43</td>\n      <td>택시비환불건에대해수차례신청하였는데 계속거절당하네요</td>\n    </tr>\n    <tr>\n      <th>4</th>\n      <td>4380535</td>\n      <td>740587</td>\n      <td>2023-03-01</td>\n      <td>환불 문의 (&amp; 영수증, 증빙, 반려)</td>\n      <td>3bab59ac-3e88-478e-8f22-c6094ab77e52</td>\n      <td>740587</td>\n      <td>MESSAGE</td>\n      <td>상담사</td>\n      <td></td>\n      <td>2023-03-01 10:27:52</td>\n      <td>환불 관련하여 문의주시어 정확한 상담을 위해 정보 확인 후 안내 도와드리도록 하겠습...</td>\n    </tr>\n    <tr>\n      <th>5</th>\n      <td>4380535</td>\n      <td>740587</td>\n      <td>2023-03-01</td>\n      <td>환불 문의 (&amp; 영수증, 증빙, 반려)</td>\n      <td>3bab59ac-3e88-478e-8f22-c6094ab77e52</td>\n      <td>740587</td>\n      <td>MESSAGE</td>\n      <td>고객</td>\n      <td></td>\n      <td>2023-03-01 10:28:02</td>\n      <td>네</td>\n    </tr>\n    <tr>\n      <th>6</th>\n      <td>4380535</td>\n      <td>740587</td>\n      <td>2023-03-01</td>\n      <td>환불 문의 (&amp; 영수증, 증빙, 반려)</td>\n      <td>3bab59ac-3e88-478e-8f22-c6094ab77e52</td>\n      <td>740587</td>\n      <td>MESSAGE</td>\n      <td>상담사</td>\n      <td></td>\n      <td>2023-03-01 10:28:35</td>\n      <td>소중한 정보 확인 감사합니다.</td>\n    </tr>\n  </tbody>\n</table>\n</div>"
     },
     "execution_count": 3,
     "metadata": {},
     "output_type": "execute_result"
    }
   ],
   "source": [
    "only_messages_idx = [idx for idx in range(len(raw_set)) if raw_set.iloc[idx]['type']==\"MESSAGE\"]\n",
    "only_messages = raw_set.iloc[only_messages_idx]\n",
    "only_messages.head()"
   ],
   "metadata": {
    "collapsed": false,
    "ExecuteTime": {
     "end_time": "2023-10-10T05:32:43.913453Z",
     "start_time": "2023-10-10T05:32:43.006699Z"
    }
   },
   "id": "257f8c5a23df53c"
  },
  {
   "cell_type": "code",
   "execution_count": 4,
   "outputs": [
    {
     "name": "stderr",
     "output_type": "stream",
     "text": [
      "100%|██████████| 19158/19158 [00:00<00:00, 23062.70it/s]\n"
     ]
    }
   ],
   "source": [
    "from tqdm import tqdm\n",
    "from ast import literal_eval\n",
    "current_speaker = None\n",
    "\n",
    "all_logs = []\n",
    "cnslt_ids = []\n",
    "conversation = []\n",
    "current_text = \"\"\n",
    "current_id = None\n",
    "dialogue_dict = {}\n",
    "\n",
    "for idx in tqdm(range(len(only_messages))):\n",
    "\n",
    "    instance = only_messages.iloc[idx]\n",
    "    cnslt_id = instance['cnslt_id']\n",
    "    type = instance['type']\n",
    "\n",
    "    if type == \"FILE\":\n",
    "        message = literal_eval(instance['message'])[0]['path']\n",
    "    else:\n",
    "        message = str(instance['message'])\n",
    "    speaker = instance['purpose']\n",
    "\n",
    "    if not message.endswith(\"신청되었습니다.\"):\n",
    "        if cnslt_id == current_id:\n",
    "            if speaker == current_speaker:\n",
    "                ### text 추\n",
    "                current_text += \" \" + message\n",
    "            else:\n",
    "                ### dialogue dict text 업데이트,\n",
    "                ### conversation에 dialogue dict 추가\n",
    "                \n",
    "                dialogue_dict['text'] = current_text\n",
    "                dialogue_dict['role'] = current_speaker\n",
    "\n",
    "                conversation.append(dialogue_dict)\n",
    "\n",
    "                dialogue_dict = {}\n",
    "                current_text = message\n",
    "                current_speaker = speaker\n",
    "                current_text = message\n",
    "\n",
    "\n",
    "\n",
    "        else:\n",
    "            dialogue_dict['text'] = current_text\n",
    "            dialogue_dict['role'] = current_speaker\n",
    "\n",
    "            conversation.append(dialogue_dict)\n",
    "            all_logs.append(conversation)\n",
    "            cnslt_ids.append(current_id)\n",
    "            current_id = cnslt_id\n",
    "            conversation = []\n",
    "            dialogue_dict = {}\n",
    "            if (type == \"MESSAGE\" or type == \"FILE\") and not message.endswith(\"신청되었습니다.\"):\n",
    "                current_text = message\n",
    "                current_speaker = speaker\n",
    "            else:\n",
    "                current_text = \"\"\n",
    "                current_speaker = None"
   ],
   "metadata": {
    "collapsed": false,
    "ExecuteTime": {
     "end_time": "2023-10-10T05:32:44.750436Z",
     "start_time": "2023-10-10T05:32:43.914736Z"
    }
   },
   "id": "ede1faf38a7f5aa2"
  },
  {
   "cell_type": "code",
   "execution_count": 5,
   "outputs": [
    {
     "data": {
      "text/plain": "    cnslt_id                                           dialogue\n0        NaN                       [{'text': '', 'role': None}]\n1  4380535.0  [{'text': '택시비환불건에대해수차례신청하였는데 계속거절당하네요', 'role...\n2  4380537.0  [{'text': '주차비 환불요청드렸는데 아직도 환불처리가 안되서요 요청에는 환불...\n3  4380734.0  [{'text': '차량 인수후 출차 주차비 주차업체 계좌이체시 환불가능여부 및 방...\n4  4380891.0  [{'text': '반갑습니다, 문의내용 말씀해주시면 확인 후 안내 도와드리겠습니다...",
      "text/html": "<div>\n<style scoped>\n    .dataframe tbody tr th:only-of-type {\n        vertical-align: middle;\n    }\n\n    .dataframe tbody tr th {\n        vertical-align: top;\n    }\n\n    .dataframe thead th {\n        text-align: right;\n    }\n</style>\n<table border=\"1\" class=\"dataframe\">\n  <thead>\n    <tr style=\"text-align: right;\">\n      <th></th>\n      <th>cnslt_id</th>\n      <th>dialogue</th>\n    </tr>\n  </thead>\n  <tbody>\n    <tr>\n      <th>0</th>\n      <td>NaN</td>\n      <td>[{'text': '', 'role': None}]</td>\n    </tr>\n    <tr>\n      <th>1</th>\n      <td>4380535.0</td>\n      <td>[{'text': '택시비환불건에대해수차례신청하였는데 계속거절당하네요', 'role...</td>\n    </tr>\n    <tr>\n      <th>2</th>\n      <td>4380537.0</td>\n      <td>[{'text': '주차비 환불요청드렸는데 아직도 환불처리가 안되서요 요청에는 환불...</td>\n    </tr>\n    <tr>\n      <th>3</th>\n      <td>4380734.0</td>\n      <td>[{'text': '차량 인수후 출차 주차비 주차업체 계좌이체시 환불가능여부 및 방...</td>\n    </tr>\n    <tr>\n      <th>4</th>\n      <td>4380891.0</td>\n      <td>[{'text': '반갑습니다, 문의내용 말씀해주시면 확인 후 안내 도와드리겠습니다...</td>\n    </tr>\n  </tbody>\n</table>\n</div>"
     },
     "execution_count": 5,
     "metadata": {},
     "output_type": "execute_result"
    }
   ],
   "source": [
    "import pandas as pd\n",
    "dst_test_raw = pd.DataFrame({\"cnslt_id\": cnslt_ids,\n",
    "                             \"dialogue\" : all_logs})\n",
    "dst_test_raw.head()\n",
    "## Dialogue Format ##\n"
   ],
   "metadata": {
    "collapsed": false,
    "ExecuteTime": {
     "end_time": "2023-10-10T05:32:44.762385Z",
     "start_time": "2023-10-10T05:32:44.757282Z"
    }
   },
   "id": "537c46a421b06bd4"
  },
  {
   "cell_type": "code",
   "execution_count": null,
   "outputs": [],
   "source": [],
   "metadata": {
    "collapsed": false
   },
   "id": "5c27a395756ca880"
  },
  {
   "cell_type": "code",
   "execution_count": 6,
   "outputs": [
    {
     "name": "stderr",
     "output_type": "stream",
     "text": [
      "100%|██████████| 1017/1017 [00:00<00:00, 37338.67it/s]\n"
     ]
    }
   ],
   "source": [
    "### 상담사 + 고객 포맷 For Ontology & Slot Filling ###\n",
    "\n",
    "conv_ids = []\n",
    "conversations = []\n",
    "\n",
    "current_text = \"\"\n",
    "\n",
    "for idx in tqdm(range(1,len(dst_test_raw))):\n",
    "    instance = dst_test_raw.iloc[idx]\n",
    "    conv_id = int(instance['cnslt_id'])\n",
    "    dialogues = instance['dialogue']\n",
    "    \n",
    "    for utterance in dialogues: \n",
    "        speaker = utterance['role']\n",
    "        utt = utterance['text']\n",
    "        \n",
    "        if speaker == \"상담사\":\n",
    "            current_text += \"상담사: \" + utt\n",
    "        elif speaker == \"고객\":\n",
    "            if current_text == \"\":\n",
    "                current_text += \"고객: \" + utt\n",
    "            else:\n",
    "                current_text += \" \\n고객: \" + utt\n",
    "            conv_ids.append(conv_id)\n",
    "            conversations.append(current_text)\n",
    "            current_text = \"\""
   ],
   "metadata": {
    "collapsed": false,
    "ExecuteTime": {
     "end_time": "2023-10-10T05:32:44.802429Z",
     "start_time": "2023-10-10T05:32:44.762169Z"
    }
   },
   "id": "56ffefa973a2dc2e"
  },
  {
   "cell_type": "code",
   "execution_count": 7,
   "outputs": [
    {
     "data": {
      "text/plain": "   Conv_ID                                      conversations\n0  4380535                    고객: 택시비환불건에대해수차례신청하였는데 계속거절당하네요\n1  4380535  상담사: 환불 관련하여 문의주시어 정확한 상담을 위해 정보 확인 후 안내 도와드리도...\n2  4380535  상담사: 소중한 정보 확인 감사합니다. 많이 궁금하셨을텐데요, 확인 후 안내드리도록...\n3  4380535                       상담사: 기다려주셔서 감사합니다. \\n고객: ...\n4  4380535  상담사: 고객님 환불 된 부분으로 확인되어 확인되어 번거로우시겠지만 재확인 부탁드립...",
      "text/html": "<div>\n<style scoped>\n    .dataframe tbody tr th:only-of-type {\n        vertical-align: middle;\n    }\n\n    .dataframe tbody tr th {\n        vertical-align: top;\n    }\n\n    .dataframe thead th {\n        text-align: right;\n    }\n</style>\n<table border=\"1\" class=\"dataframe\">\n  <thead>\n    <tr style=\"text-align: right;\">\n      <th></th>\n      <th>Conv_ID</th>\n      <th>conversations</th>\n    </tr>\n  </thead>\n  <tbody>\n    <tr>\n      <th>0</th>\n      <td>4380535</td>\n      <td>고객: 택시비환불건에대해수차례신청하였는데 계속거절당하네요</td>\n    </tr>\n    <tr>\n      <th>1</th>\n      <td>4380535</td>\n      <td>상담사: 환불 관련하여 문의주시어 정확한 상담을 위해 정보 확인 후 안내 도와드리도...</td>\n    </tr>\n    <tr>\n      <th>2</th>\n      <td>4380535</td>\n      <td>상담사: 소중한 정보 확인 감사합니다. 많이 궁금하셨을텐데요, 확인 후 안내드리도록...</td>\n    </tr>\n    <tr>\n      <th>3</th>\n      <td>4380535</td>\n      <td>상담사: 기다려주셔서 감사합니다. \\n고객: ...</td>\n    </tr>\n    <tr>\n      <th>4</th>\n      <td>4380535</td>\n      <td>상담사: 고객님 환불 된 부분으로 확인되어 확인되어 번거로우시겠지만 재확인 부탁드립...</td>\n    </tr>\n  </tbody>\n</table>\n</div>"
     },
     "execution_count": 7,
     "metadata": {},
     "output_type": "execute_result"
    }
   ],
   "source": [
    "dst_for_ont = pd.DataFrame({\"Conv_ID\": conv_ids,\n",
    "                            \"conversations\" : conversations})\n",
    "dst_for_ont.head()"
   ],
   "metadata": {
    "collapsed": false,
    "ExecuteTime": {
     "end_time": "2023-10-10T05:32:44.813469Z",
     "start_time": "2023-10-10T05:32:44.795306Z"
    }
   },
   "id": "ea62fb4f87e3604e"
  },
  {
   "cell_type": "code",
   "execution_count": 8,
   "outputs": [
    {
     "ename": "OSError",
     "evalue": "Cannot save file into a non-existent directory: '../raw_dataset'",
     "output_type": "error",
     "traceback": [
      "\u001B[0;31m---------------------------------------------------------------------------\u001B[0m",
      "\u001B[0;31mOSError\u001B[0m                                   Traceback (most recent call last)",
      "Cell \u001B[0;32mIn[8], line 1\u001B[0m\n\u001B[0;32m----> 1\u001B[0m \u001B[43mdst_for_ont\u001B[49m\u001B[38;5;241;43m.\u001B[39;49m\u001B[43mto_csv\u001B[49m\u001B[43m(\u001B[49m\u001B[38;5;124;43m\"\u001B[39;49m\u001B[38;5;124;43m../raw_dataset/dst_for_ont_refund.csv\u001B[39;49m\u001B[38;5;124;43m\"\u001B[39;49m\u001B[43m,\u001B[49m\u001B[43mindex\u001B[49m\u001B[38;5;241;43m=\u001B[39;49m\u001B[38;5;28;43;01mFalse\u001B[39;49;00m\u001B[43m)\u001B[49m\n",
      "File \u001B[0;32m~/Documents/pythonProject3/venv/lib/python3.9/site-packages/pandas/core/generic.py:3772\u001B[0m, in \u001B[0;36mNDFrame.to_csv\u001B[0;34m(self, path_or_buf, sep, na_rep, float_format, columns, header, index, index_label, mode, encoding, compression, quoting, quotechar, lineterminator, chunksize, date_format, doublequote, escapechar, decimal, errors, storage_options)\u001B[0m\n\u001B[1;32m   3761\u001B[0m df \u001B[38;5;241m=\u001B[39m \u001B[38;5;28mself\u001B[39m \u001B[38;5;28;01mif\u001B[39;00m \u001B[38;5;28misinstance\u001B[39m(\u001B[38;5;28mself\u001B[39m, ABCDataFrame) \u001B[38;5;28;01melse\u001B[39;00m \u001B[38;5;28mself\u001B[39m\u001B[38;5;241m.\u001B[39mto_frame()\n\u001B[1;32m   3763\u001B[0m formatter \u001B[38;5;241m=\u001B[39m DataFrameFormatter(\n\u001B[1;32m   3764\u001B[0m     frame\u001B[38;5;241m=\u001B[39mdf,\n\u001B[1;32m   3765\u001B[0m     header\u001B[38;5;241m=\u001B[39mheader,\n\u001B[0;32m   (...)\u001B[0m\n\u001B[1;32m   3769\u001B[0m     decimal\u001B[38;5;241m=\u001B[39mdecimal,\n\u001B[1;32m   3770\u001B[0m )\n\u001B[0;32m-> 3772\u001B[0m \u001B[38;5;28;01mreturn\u001B[39;00m \u001B[43mDataFrameRenderer\u001B[49m\u001B[43m(\u001B[49m\u001B[43mformatter\u001B[49m\u001B[43m)\u001B[49m\u001B[38;5;241;43m.\u001B[39;49m\u001B[43mto_csv\u001B[49m\u001B[43m(\u001B[49m\n\u001B[1;32m   3773\u001B[0m \u001B[43m    \u001B[49m\u001B[43mpath_or_buf\u001B[49m\u001B[43m,\u001B[49m\n\u001B[1;32m   3774\u001B[0m \u001B[43m    \u001B[49m\u001B[43mlineterminator\u001B[49m\u001B[38;5;241;43m=\u001B[39;49m\u001B[43mlineterminator\u001B[49m\u001B[43m,\u001B[49m\n\u001B[1;32m   3775\u001B[0m \u001B[43m    \u001B[49m\u001B[43msep\u001B[49m\u001B[38;5;241;43m=\u001B[39;49m\u001B[43msep\u001B[49m\u001B[43m,\u001B[49m\n\u001B[1;32m   3776\u001B[0m \u001B[43m    \u001B[49m\u001B[43mencoding\u001B[49m\u001B[38;5;241;43m=\u001B[39;49m\u001B[43mencoding\u001B[49m\u001B[43m,\u001B[49m\n\u001B[1;32m   3777\u001B[0m \u001B[43m    \u001B[49m\u001B[43merrors\u001B[49m\u001B[38;5;241;43m=\u001B[39;49m\u001B[43merrors\u001B[49m\u001B[43m,\u001B[49m\n\u001B[1;32m   3778\u001B[0m \u001B[43m    \u001B[49m\u001B[43mcompression\u001B[49m\u001B[38;5;241;43m=\u001B[39;49m\u001B[43mcompression\u001B[49m\u001B[43m,\u001B[49m\n\u001B[1;32m   3779\u001B[0m \u001B[43m    \u001B[49m\u001B[43mquoting\u001B[49m\u001B[38;5;241;43m=\u001B[39;49m\u001B[43mquoting\u001B[49m\u001B[43m,\u001B[49m\n\u001B[1;32m   3780\u001B[0m \u001B[43m    \u001B[49m\u001B[43mcolumns\u001B[49m\u001B[38;5;241;43m=\u001B[39;49m\u001B[43mcolumns\u001B[49m\u001B[43m,\u001B[49m\n\u001B[1;32m   3781\u001B[0m \u001B[43m    \u001B[49m\u001B[43mindex_label\u001B[49m\u001B[38;5;241;43m=\u001B[39;49m\u001B[43mindex_label\u001B[49m\u001B[43m,\u001B[49m\n\u001B[1;32m   3782\u001B[0m \u001B[43m    \u001B[49m\u001B[43mmode\u001B[49m\u001B[38;5;241;43m=\u001B[39;49m\u001B[43mmode\u001B[49m\u001B[43m,\u001B[49m\n\u001B[1;32m   3783\u001B[0m \u001B[43m    \u001B[49m\u001B[43mchunksize\u001B[49m\u001B[38;5;241;43m=\u001B[39;49m\u001B[43mchunksize\u001B[49m\u001B[43m,\u001B[49m\n\u001B[1;32m   3784\u001B[0m \u001B[43m    \u001B[49m\u001B[43mquotechar\u001B[49m\u001B[38;5;241;43m=\u001B[39;49m\u001B[43mquotechar\u001B[49m\u001B[43m,\u001B[49m\n\u001B[1;32m   3785\u001B[0m \u001B[43m    \u001B[49m\u001B[43mdate_format\u001B[49m\u001B[38;5;241;43m=\u001B[39;49m\u001B[43mdate_format\u001B[49m\u001B[43m,\u001B[49m\n\u001B[1;32m   3786\u001B[0m \u001B[43m    \u001B[49m\u001B[43mdoublequote\u001B[49m\u001B[38;5;241;43m=\u001B[39;49m\u001B[43mdoublequote\u001B[49m\u001B[43m,\u001B[49m\n\u001B[1;32m   3787\u001B[0m \u001B[43m    \u001B[49m\u001B[43mescapechar\u001B[49m\u001B[38;5;241;43m=\u001B[39;49m\u001B[43mescapechar\u001B[49m\u001B[43m,\u001B[49m\n\u001B[1;32m   3788\u001B[0m \u001B[43m    \u001B[49m\u001B[43mstorage_options\u001B[49m\u001B[38;5;241;43m=\u001B[39;49m\u001B[43mstorage_options\u001B[49m\u001B[43m,\u001B[49m\n\u001B[1;32m   3789\u001B[0m \u001B[43m\u001B[49m\u001B[43m)\u001B[49m\n",
      "File \u001B[0;32m~/Documents/pythonProject3/venv/lib/python3.9/site-packages/pandas/io/formats/format.py:1186\u001B[0m, in \u001B[0;36mDataFrameRenderer.to_csv\u001B[0;34m(self, path_or_buf, encoding, sep, columns, index_label, mode, compression, quoting, quotechar, lineterminator, chunksize, date_format, doublequote, escapechar, errors, storage_options)\u001B[0m\n\u001B[1;32m   1165\u001B[0m     created_buffer \u001B[38;5;241m=\u001B[39m \u001B[38;5;28;01mFalse\u001B[39;00m\n\u001B[1;32m   1167\u001B[0m csv_formatter \u001B[38;5;241m=\u001B[39m CSVFormatter(\n\u001B[1;32m   1168\u001B[0m     path_or_buf\u001B[38;5;241m=\u001B[39mpath_or_buf,\n\u001B[1;32m   1169\u001B[0m     lineterminator\u001B[38;5;241m=\u001B[39mlineterminator,\n\u001B[0;32m   (...)\u001B[0m\n\u001B[1;32m   1184\u001B[0m     formatter\u001B[38;5;241m=\u001B[39m\u001B[38;5;28mself\u001B[39m\u001B[38;5;241m.\u001B[39mfmt,\n\u001B[1;32m   1185\u001B[0m )\n\u001B[0;32m-> 1186\u001B[0m \u001B[43mcsv_formatter\u001B[49m\u001B[38;5;241;43m.\u001B[39;49m\u001B[43msave\u001B[49m\u001B[43m(\u001B[49m\u001B[43m)\u001B[49m\n\u001B[1;32m   1188\u001B[0m \u001B[38;5;28;01mif\u001B[39;00m created_buffer:\n\u001B[1;32m   1189\u001B[0m     \u001B[38;5;28;01massert\u001B[39;00m \u001B[38;5;28misinstance\u001B[39m(path_or_buf, StringIO)\n",
      "File \u001B[0;32m~/Documents/pythonProject3/venv/lib/python3.9/site-packages/pandas/io/formats/csvs.py:240\u001B[0m, in \u001B[0;36mCSVFormatter.save\u001B[0;34m(self)\u001B[0m\n\u001B[1;32m    236\u001B[0m \u001B[38;5;250m\u001B[39m\u001B[38;5;124;03m\"\"\"\u001B[39;00m\n\u001B[1;32m    237\u001B[0m \u001B[38;5;124;03mCreate the writer & save.\u001B[39;00m\n\u001B[1;32m    238\u001B[0m \u001B[38;5;124;03m\"\"\"\u001B[39;00m\n\u001B[1;32m    239\u001B[0m \u001B[38;5;66;03m# apply compression and byte/text conversion\u001B[39;00m\n\u001B[0;32m--> 240\u001B[0m \u001B[38;5;28;01mwith\u001B[39;00m \u001B[43mget_handle\u001B[49m\u001B[43m(\u001B[49m\n\u001B[1;32m    241\u001B[0m \u001B[43m    \u001B[49m\u001B[38;5;28;43mself\u001B[39;49m\u001B[38;5;241;43m.\u001B[39;49m\u001B[43mfilepath_or_buffer\u001B[49m\u001B[43m,\u001B[49m\n\u001B[1;32m    242\u001B[0m \u001B[43m    \u001B[49m\u001B[38;5;28;43mself\u001B[39;49m\u001B[38;5;241;43m.\u001B[39;49m\u001B[43mmode\u001B[49m\u001B[43m,\u001B[49m\n\u001B[1;32m    243\u001B[0m \u001B[43m    \u001B[49m\u001B[43mencoding\u001B[49m\u001B[38;5;241;43m=\u001B[39;49m\u001B[38;5;28;43mself\u001B[39;49m\u001B[38;5;241;43m.\u001B[39;49m\u001B[43mencoding\u001B[49m\u001B[43m,\u001B[49m\n\u001B[1;32m    244\u001B[0m \u001B[43m    \u001B[49m\u001B[43merrors\u001B[49m\u001B[38;5;241;43m=\u001B[39;49m\u001B[38;5;28;43mself\u001B[39;49m\u001B[38;5;241;43m.\u001B[39;49m\u001B[43merrors\u001B[49m\u001B[43m,\u001B[49m\n\u001B[1;32m    245\u001B[0m \u001B[43m    \u001B[49m\u001B[43mcompression\u001B[49m\u001B[38;5;241;43m=\u001B[39;49m\u001B[38;5;28;43mself\u001B[39;49m\u001B[38;5;241;43m.\u001B[39;49m\u001B[43mcompression\u001B[49m\u001B[43m,\u001B[49m\n\u001B[1;32m    246\u001B[0m \u001B[43m    \u001B[49m\u001B[43mstorage_options\u001B[49m\u001B[38;5;241;43m=\u001B[39;49m\u001B[38;5;28;43mself\u001B[39;49m\u001B[38;5;241;43m.\u001B[39;49m\u001B[43mstorage_options\u001B[49m\u001B[43m,\u001B[49m\n\u001B[1;32m    247\u001B[0m \u001B[43m\u001B[49m\u001B[43m)\u001B[49m \u001B[38;5;28;01mas\u001B[39;00m handles:\n\u001B[1;32m    248\u001B[0m     \u001B[38;5;66;03m# Note: self.encoding is irrelevant here\u001B[39;00m\n\u001B[1;32m    249\u001B[0m     \u001B[38;5;28mself\u001B[39m\u001B[38;5;241m.\u001B[39mwriter \u001B[38;5;241m=\u001B[39m csvlib\u001B[38;5;241m.\u001B[39mwriter(\n\u001B[1;32m    250\u001B[0m         handles\u001B[38;5;241m.\u001B[39mhandle,\n\u001B[1;32m    251\u001B[0m         lineterminator\u001B[38;5;241m=\u001B[39m\u001B[38;5;28mself\u001B[39m\u001B[38;5;241m.\u001B[39mlineterminator,\n\u001B[0;32m   (...)\u001B[0m\n\u001B[1;32m    256\u001B[0m         quotechar\u001B[38;5;241m=\u001B[39m\u001B[38;5;28mself\u001B[39m\u001B[38;5;241m.\u001B[39mquotechar,\n\u001B[1;32m    257\u001B[0m     )\n\u001B[1;32m    259\u001B[0m     \u001B[38;5;28mself\u001B[39m\u001B[38;5;241m.\u001B[39m_save()\n",
      "File \u001B[0;32m~/Documents/pythonProject3/venv/lib/python3.9/site-packages/pandas/io/common.py:737\u001B[0m, in \u001B[0;36mget_handle\u001B[0;34m(path_or_buf, mode, encoding, compression, memory_map, is_text, errors, storage_options)\u001B[0m\n\u001B[1;32m    735\u001B[0m \u001B[38;5;66;03m# Only for write methods\u001B[39;00m\n\u001B[1;32m    736\u001B[0m \u001B[38;5;28;01mif\u001B[39;00m \u001B[38;5;124m\"\u001B[39m\u001B[38;5;124mr\u001B[39m\u001B[38;5;124m\"\u001B[39m \u001B[38;5;129;01mnot\u001B[39;00m \u001B[38;5;129;01min\u001B[39;00m mode \u001B[38;5;129;01mand\u001B[39;00m is_path:\n\u001B[0;32m--> 737\u001B[0m     \u001B[43mcheck_parent_directory\u001B[49m\u001B[43m(\u001B[49m\u001B[38;5;28;43mstr\u001B[39;49m\u001B[43m(\u001B[49m\u001B[43mhandle\u001B[49m\u001B[43m)\u001B[49m\u001B[43m)\u001B[49m\n\u001B[1;32m    739\u001B[0m \u001B[38;5;28;01mif\u001B[39;00m compression:\n\u001B[1;32m    740\u001B[0m     \u001B[38;5;28;01mif\u001B[39;00m compression \u001B[38;5;241m!=\u001B[39m \u001B[38;5;124m\"\u001B[39m\u001B[38;5;124mzstd\u001B[39m\u001B[38;5;124m\"\u001B[39m:\n\u001B[1;32m    741\u001B[0m         \u001B[38;5;66;03m# compression libraries do not like an explicit text-mode\u001B[39;00m\n",
      "File \u001B[0;32m~/Documents/pythonProject3/venv/lib/python3.9/site-packages/pandas/io/common.py:600\u001B[0m, in \u001B[0;36mcheck_parent_directory\u001B[0;34m(path)\u001B[0m\n\u001B[1;32m    598\u001B[0m parent \u001B[38;5;241m=\u001B[39m Path(path)\u001B[38;5;241m.\u001B[39mparent\n\u001B[1;32m    599\u001B[0m \u001B[38;5;28;01mif\u001B[39;00m \u001B[38;5;129;01mnot\u001B[39;00m parent\u001B[38;5;241m.\u001B[39mis_dir():\n\u001B[0;32m--> 600\u001B[0m     \u001B[38;5;28;01mraise\u001B[39;00m \u001B[38;5;167;01mOSError\u001B[39;00m(\u001B[38;5;124mrf\u001B[39m\u001B[38;5;124m\"\u001B[39m\u001B[38;5;124mCannot save file into a non-existent directory: \u001B[39m\u001B[38;5;124m'\u001B[39m\u001B[38;5;132;01m{\u001B[39;00mparent\u001B[38;5;132;01m}\u001B[39;00m\u001B[38;5;124m'\u001B[39m\u001B[38;5;124m\"\u001B[39m)\n",
      "\u001B[0;31mOSError\u001B[0m: Cannot save file into a non-existent directory: '../raw_dataset'"
     ]
    }
   ],
   "source": [
    "dst_for_ont.to_csv(\"../raw_dataset/dst_for_ont_refund.csv\",index=False)"
   ],
   "metadata": {
    "collapsed": false,
    "ExecuteTime": {
     "end_time": "2023-10-10T05:32:45.394978Z",
     "start_time": "2023-10-10T05:32:44.798871Z"
    }
   },
   "id": "d82706db65673fd9"
  },
  {
   "cell_type": "code",
   "execution_count": null,
   "outputs": [],
   "source": [],
   "metadata": {
    "collapsed": false
   },
   "id": "c3bab1ff54796637"
  }
 ],
 "metadata": {
  "kernelspec": {
   "display_name": "Python 3",
   "language": "python",
   "name": "python3"
  },
  "language_info": {
   "codemirror_mode": {
    "name": "ipython",
    "version": 2
   },
   "file_extension": ".py",
   "mimetype": "text/x-python",
   "name": "python",
   "nbconvert_exporter": "python",
   "pygments_lexer": "ipython2",
   "version": "2.7.6"
  }
 },
 "nbformat": 4,
 "nbformat_minor": 5
}
